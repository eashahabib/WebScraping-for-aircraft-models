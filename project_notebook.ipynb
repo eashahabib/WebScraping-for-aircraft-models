{
 "cells": [
  {
   "cell_type": "markdown",
   "source": [
    "Importing all the relevant libraries needed:\r\n",
    "\r\n",
    "- selenium and bs4 (beautifulsoup and requests) for webscraping\r\n",
    "- time for pausing between commands\r\n",
    "- pandas for the dataframes\r\n",
    "- sqlalchemy for running sql queries on the data\r\n"
   ],
   "metadata": {}
  },
  {
   "cell_type": "code",
   "execution_count": 7,
   "source": [
    "import requests\r\n",
    "from bs4 import BeautifulSoup\r\n",
    "from time import sleep\r\n",
    "import pandas as pd\r\n",
    "from sqlalchemy import create_engine\r\n",
    "from tqdm import tqdm\r\n",
    "from selenium import webdriver\r\n",
    "import selenium \r\n",
    "\r\n",
    "driver = webdriver.Chrome('chromedriver')\r\n",
    "\r\n",
    "source_URL = [\"https://www.airliners.net/aircraft-data\", \"https://www.risingup.com/planespecs/info/\", \"https://aircraftbluebook.com/Tools/ABB/ShowSpecifications.do\", \"https://contentzone.eurocontrol.int/aircraftperformance/default.aspx?\"]"
   ],
   "outputs": [],
   "metadata": {}
  },
  {
   "cell_type": "code",
   "execution_count": 63,
   "source": [
    "driver.get(source_URL[0])\r\n",
    "\r\n",
    "# Accept the cookies popup\r\n",
    "sleep(5)\r\n",
    "\r\n",
    "accept_cookies = driver.find_element_by_xpath('//*[@id=\"qc-cmp2-ui\"]/div[2]/div/button[2]')\r\n",
    "\r\n",
    "if accept_cookies.text == 'AGREE':\r\n",
    "    relevant_button = accept_cookies\r\n",
    "relevant_button.click()\r\n",
    "\r\n",
    "driver.get(source_URL[0])\r\n",
    "all_data_sel = driver.find_elements_by_class_name(\"aircraftList\")\r\n",
    "\r\n",
    "\r\n",
    "data_dict = {'Name' :[], 'Type': [], 'url':[]}\r\n",
    "\r\n",
    "for div_tags in all_data_sel:\r\n",
    "    item = div_tags.text.split('\\n')\r\n",
    "    item2 = div_tags.find_elements_by_tag_name('a')\r\n",
    "    if len(item2)>0:\r\n",
    "        data_dict['url'].append(item2[0].get_attribute('href')) #figure out how to get the href link\r\n",
    "    if len(item)==2:\r\n",
    "        data_dict['Name'].append(item[0])\r\n",
    "        # data_dict['Type'].append(item[1])\r\n",
    "\r\n",
    "\r\n",
    "data_dict['Country of Origin'] = []\r\n",
    "data_dict['History'] = []\r\n",
    "data_dict['Powerplants'] = []\r\n",
    "data_dict['Performance'] = []\r\n",
    "data_dict['Weights'] = []\r\n",
    "data_dict['Dimensions'] = []\r\n",
    "data_dict['Capacity'] = []\r\n",
    "data_dict['Production'] = []\r\n",
    "data_dict['Related Links'] = []\r\n",
    "\r\n",
    "for link in data_dict['url']:\r\n",
    "    sleep(1)\r\n",
    "    driver.get(link)\r\n",
    "    prop_elem = driver.find_elements_by_class_name(\"aircraftProperty\")\r\n",
    "    for elem in prop_elem:\r\n",
    "        data_dict[elem.find_element_by_class_name('name').text].append(elem.find_element_by_class_name('description').text)\r\n",
    "\r\n",
    "data_df_1 = pd.DataFrame(data_dict)\r\n",
    "data_df_1.to_excel(\"output.xlsx\", sheet_name=\"airliners\")\r\n",
    "\r\n"
   ],
   "outputs": [],
   "metadata": {}
  },
  {
   "cell_type": "code",
   "execution_count": 64,
   "source": [
    "# attempting beautiful soup but not really useful atm\r\n",
    "page = requests.get(URL)\r\n",
    "html = page.text\r\n",
    "soup = bs4.BeautifulSoup(html, 'lxml')\r\n",
    "\r\n",
    "# if I want to change tabs:\r\n",
    "# chrome_tabs = []\r\n",
    "# chrome_tabs.append(driver.current_window_handle)\r\n",
    "# print(driver.title) # prints the title of the current page\r\n",
    "# driver.execute_script(\"window.open('https://www.google.com');\")\r\n",
    "# driver.switch_to_window(driver.window_handles[-1])\r\n",
    "# URL = \"https://www.risingup.com/planespecs/info/\""
   ],
   "outputs": [],
   "metadata": {}
  },
  {
   "cell_type": "code",
   "execution_count": 23,
   "source": [
    "import os\r\n",
    "import openpyxl\r\n",
    "data_df_1 = pd.DataFrame({'Name': [1, 2, 4, 5], 'Type': ['a', 2.4,6 ,6]})\r\n",
    "data_df_1.to_excel(\"path_to_file.xlsx\", sheet_name=\"Sheet1\")\r\n",
    "data_df_1.to_excel(\"path_to_file.xlsx\", sheet_name=\"Sheet2\")\r\n",
    "\r\n",
    "import pandas as pd\r\n",
    "from openpyxl import load_workbook\r\n",
    "\r\n",
    "data = [\r\n",
    "    {\"a\": 1, \"b\": 2}\r\n",
    "]\r\n",
    "\r\n",
    "df = pd.DataFrame(data)\r\n",
    "df2 = pd.DataFrame(data)\r\n",
    "\r\n",
    "book = load_workbook(\"output.xlsx\")\r\n",
    "writer = pd.ExcelWriter('output.xlsx', mode=\"a\")\r\n",
    "\r\n",
    "if \"Sheet111\" not in book.sheetnames:\r\n",
    "    df.to_excel(writer, 'Sheet111')\r\n",
    "\r\n",
    "if \"Sheet21\" not in book.sheetnames:\r\n",
    "    df2.to_excel(writer, 'Sheet21')\r\n",
    "writer.save()\r\n",
    "\r\n",
    "print(book.sheetnames)\r\n",
    "\r\n",
    "import functions as fun\r\n",
    "\r\n",
    "fun.save_to_sql(data, \"testing\")"
   ],
   "outputs": [
    {
     "output_type": "stream",
     "name": "stdout",
     "text": [
      "['airliners', 'Sheet11', 'Sheet21', 'Sheet111']\n",
      "goo.xls\n"
     ]
    }
   ],
   "metadata": {}
  },
  {
   "cell_type": "markdown",
   "source": [
    "## Second Source\r\n",
    "Go into each of the links and get the additional information about everything"
   ],
   "metadata": {}
  },
  {
   "cell_type": "code",
   "execution_count": null,
   "source": [
    "# driver.get(source_URL[1])\r\n",
    "\r\n",
    "# manufacturer_list = {}\r\n",
    "\r\n",
    "# list_tag = driver.find_elements_by_tag_name('td')[0].find_elements_by_tag_name('ul')\r\n",
    "\r\n",
    "# for item in list_tag:\r\n",
    "#     temp = item.find_element_by_tag_name('a')\r\n",
    "#     manufacturer_list[temp.text] = temp.get_attribute('href')\r\n",
    "\r\n",
    "# for name, link in manufacturer_list.items():\r\n",
    "#     sleep(1)\r\n",
    "#     driver.get(link)\r\n",
    "\r\n",
    "#     list_tag = driver.find_element_by_tag_name('td').find_elements_by_tag_name('ul')\r\n",
    "#     product_list = { 'Name': [], 'Link': [] }\r\n",
    "\r\n",
    "#     for item in list_tag:\r\n",
    "#         temp = item.find_element_by_tag_name('a')\r\n",
    "#         product_list['Name'].append(temp.text) \r\n",
    "#         product_list['Link'].append(temp.get_attribute('href'))\r\n",
    "\r\n",
    "#     for p_link in product_list['Link']:\r\n",
    "#         sleep(1)\r\n",
    "#         driver.get(p_link)\r\n"
   ],
   "outputs": [],
   "metadata": {}
  },
  {
   "cell_type": "code",
   "execution_count": 15,
   "source": [
    "data_dict_2 = {'Name': []}\r\n",
    "\r\n",
    "for index in tqdm(range(4, 521)):\r\n",
    "    sleep(1)\r\n",
    "    URL = f\"https://www.risingup.com/planespecs/info/airplane{index}.shtml\"\r\n",
    "    driver.get(URL)\r\n",
    "\r\n",
    "    #checking if the URL exists\r\n",
    "    if driver.find_element_by_tag_name('h1').text.lower() != 'aircraft performance data':\r\n",
    "        continue\r\n",
    "\r\n",
    "    # filling in the name\r\n",
    "    name = driver.find_element_by_id('thecontent').find_element_by_tag_name('h2')\r\n",
    "    data_dict_2['Name'].append(name.text.split(' - ')[0] )\r\n",
    "\r\n",
    "    # filling in the data\r\n",
    "    td_tags = driver.find_element_by_id('thecontent').find_elements_by_tag_name('td')\r\n",
    "    for tag in td_tags:\r\n",
    "        if tag.text != '':\r\n",
    "            temp = tag.text.split(':')\r\n",
    "            if len(temp) == 2:\r\n",
    "                if temp[0] not in data_dict_2:\r\n",
    "                    data_dict_2[temp[0]] = []\r\n",
    "                \r\n",
    "                data_dict_2[temp[0]].append(temp[1])\r\n",
    "                    \r\n",
    "\r\n",
    "\r\n",
    "        #tag.find_element_by_tag_name('b').text #field name\r\n",
    "\r\n"
   ],
   "outputs": [
    {
     "output_type": "stream",
     "name": "stderr",
     "text": [
      "  0%|          | 0/517 [00:13<?, ?it/s]\n"
     ]
    },
    {
     "output_type": "error",
     "ename": "KeyboardInterrupt",
     "evalue": "",
     "traceback": [
      "\u001b[1;31m---------------------------------------------------------------------------\u001b[0m",
      "\u001b[1;31mKeyboardInterrupt\u001b[0m                         Traceback (most recent call last)",
      "\u001b[1;32m~\\AppData\\Local\\Temp/ipykernel_11536/2260602672.py\u001b[0m in \u001b[0;36m<module>\u001b[1;34m\u001b[0m\n\u001b[0;32m      4\u001b[0m     \u001b[0msleep\u001b[0m\u001b[1;33m(\u001b[0m\u001b[1;36m1\u001b[0m\u001b[1;33m)\u001b[0m\u001b[1;33m\u001b[0m\u001b[1;33m\u001b[0m\u001b[0m\n\u001b[0;32m      5\u001b[0m     \u001b[0mURL\u001b[0m \u001b[1;33m=\u001b[0m \u001b[1;34mf\"https://www.risingup.com/planespecs/info/airplane{index}.shtml\"\u001b[0m\u001b[1;33m\u001b[0m\u001b[1;33m\u001b[0m\u001b[0m\n\u001b[1;32m----> 6\u001b[1;33m     \u001b[0mdriver\u001b[0m\u001b[1;33m.\u001b[0m\u001b[0mget\u001b[0m\u001b[1;33m(\u001b[0m\u001b[0mURL\u001b[0m\u001b[1;33m)\u001b[0m\u001b[1;33m\u001b[0m\u001b[1;33m\u001b[0m\u001b[0m\n\u001b[0m\u001b[0;32m      7\u001b[0m \u001b[1;33m\u001b[0m\u001b[0m\n\u001b[0;32m      8\u001b[0m     \u001b[1;31m#checking if the URL exists\u001b[0m\u001b[1;33m\u001b[0m\u001b[1;33m\u001b[0m\u001b[1;33m\u001b[0m\u001b[0m\n",
      "\u001b[1;32m~\\Anaconda3\\envs\\AiCourse\\lib\\site-packages\\selenium\\webdriver\\remote\\webdriver.py\u001b[0m in \u001b[0;36mget\u001b[1;34m(self, url)\u001b[0m\n\u001b[0;32m    331\u001b[0m         \u001b[0mLoads\u001b[0m \u001b[0ma\u001b[0m \u001b[0mweb\u001b[0m \u001b[0mpage\u001b[0m \u001b[1;32min\u001b[0m \u001b[0mthe\u001b[0m \u001b[0mcurrent\u001b[0m \u001b[0mbrowser\u001b[0m \u001b[0msession\u001b[0m\u001b[1;33m.\u001b[0m\u001b[1;33m\u001b[0m\u001b[1;33m\u001b[0m\u001b[0m\n\u001b[0;32m    332\u001b[0m         \"\"\"\n\u001b[1;32m--> 333\u001b[1;33m         \u001b[0mself\u001b[0m\u001b[1;33m.\u001b[0m\u001b[0mexecute\u001b[0m\u001b[1;33m(\u001b[0m\u001b[0mCommand\u001b[0m\u001b[1;33m.\u001b[0m\u001b[0mGET\u001b[0m\u001b[1;33m,\u001b[0m \u001b[1;33m{\u001b[0m\u001b[1;34m'url'\u001b[0m\u001b[1;33m:\u001b[0m \u001b[0murl\u001b[0m\u001b[1;33m}\u001b[0m\u001b[1;33m)\u001b[0m\u001b[1;33m\u001b[0m\u001b[1;33m\u001b[0m\u001b[0m\n\u001b[0m\u001b[0;32m    334\u001b[0m \u001b[1;33m\u001b[0m\u001b[0m\n\u001b[0;32m    335\u001b[0m     \u001b[1;33m@\u001b[0m\u001b[0mproperty\u001b[0m\u001b[1;33m\u001b[0m\u001b[1;33m\u001b[0m\u001b[0m\n",
      "\u001b[1;32m~\\Anaconda3\\envs\\AiCourse\\lib\\site-packages\\selenium\\webdriver\\remote\\webdriver.py\u001b[0m in \u001b[0;36mexecute\u001b[1;34m(self, driver_command, params)\u001b[0m\n\u001b[0;32m    317\u001b[0m \u001b[1;33m\u001b[0m\u001b[0m\n\u001b[0;32m    318\u001b[0m         \u001b[0mparams\u001b[0m \u001b[1;33m=\u001b[0m \u001b[0mself\u001b[0m\u001b[1;33m.\u001b[0m\u001b[0m_wrap_value\u001b[0m\u001b[1;33m(\u001b[0m\u001b[0mparams\u001b[0m\u001b[1;33m)\u001b[0m\u001b[1;33m\u001b[0m\u001b[1;33m\u001b[0m\u001b[0m\n\u001b[1;32m--> 319\u001b[1;33m         \u001b[0mresponse\u001b[0m \u001b[1;33m=\u001b[0m \u001b[0mself\u001b[0m\u001b[1;33m.\u001b[0m\u001b[0mcommand_executor\u001b[0m\u001b[1;33m.\u001b[0m\u001b[0mexecute\u001b[0m\u001b[1;33m(\u001b[0m\u001b[0mdriver_command\u001b[0m\u001b[1;33m,\u001b[0m \u001b[0mparams\u001b[0m\u001b[1;33m)\u001b[0m\u001b[1;33m\u001b[0m\u001b[1;33m\u001b[0m\u001b[0m\n\u001b[0m\u001b[0;32m    320\u001b[0m         \u001b[1;32mif\u001b[0m \u001b[0mresponse\u001b[0m\u001b[1;33m:\u001b[0m\u001b[1;33m\u001b[0m\u001b[1;33m\u001b[0m\u001b[0m\n\u001b[0;32m    321\u001b[0m             \u001b[0mself\u001b[0m\u001b[1;33m.\u001b[0m\u001b[0merror_handler\u001b[0m\u001b[1;33m.\u001b[0m\u001b[0mcheck_response\u001b[0m\u001b[1;33m(\u001b[0m\u001b[0mresponse\u001b[0m\u001b[1;33m)\u001b[0m\u001b[1;33m\u001b[0m\u001b[1;33m\u001b[0m\u001b[0m\n",
      "\u001b[1;32m~\\Anaconda3\\envs\\AiCourse\\lib\\site-packages\\selenium\\webdriver\\remote\\remote_connection.py\u001b[0m in \u001b[0;36mexecute\u001b[1;34m(self, command, params)\u001b[0m\n\u001b[0;32m    372\u001b[0m         \u001b[0mdata\u001b[0m \u001b[1;33m=\u001b[0m \u001b[0mutils\u001b[0m\u001b[1;33m.\u001b[0m\u001b[0mdump_json\u001b[0m\u001b[1;33m(\u001b[0m\u001b[0mparams\u001b[0m\u001b[1;33m)\u001b[0m\u001b[1;33m\u001b[0m\u001b[1;33m\u001b[0m\u001b[0m\n\u001b[0;32m    373\u001b[0m         \u001b[0murl\u001b[0m \u001b[1;33m=\u001b[0m \u001b[1;34m'%s%s'\u001b[0m \u001b[1;33m%\u001b[0m \u001b[1;33m(\u001b[0m\u001b[0mself\u001b[0m\u001b[1;33m.\u001b[0m\u001b[0m_url\u001b[0m\u001b[1;33m,\u001b[0m \u001b[0mpath\u001b[0m\u001b[1;33m)\u001b[0m\u001b[1;33m\u001b[0m\u001b[1;33m\u001b[0m\u001b[0m\n\u001b[1;32m--> 374\u001b[1;33m         \u001b[1;32mreturn\u001b[0m \u001b[0mself\u001b[0m\u001b[1;33m.\u001b[0m\u001b[0m_request\u001b[0m\u001b[1;33m(\u001b[0m\u001b[0mcommand_info\u001b[0m\u001b[1;33m[\u001b[0m\u001b[1;36m0\u001b[0m\u001b[1;33m]\u001b[0m\u001b[1;33m,\u001b[0m \u001b[0murl\u001b[0m\u001b[1;33m,\u001b[0m \u001b[0mbody\u001b[0m\u001b[1;33m=\u001b[0m\u001b[0mdata\u001b[0m\u001b[1;33m)\u001b[0m\u001b[1;33m\u001b[0m\u001b[1;33m\u001b[0m\u001b[0m\n\u001b[0m\u001b[0;32m    375\u001b[0m \u001b[1;33m\u001b[0m\u001b[0m\n\u001b[0;32m    376\u001b[0m     \u001b[1;32mdef\u001b[0m \u001b[0m_request\u001b[0m\u001b[1;33m(\u001b[0m\u001b[0mself\u001b[0m\u001b[1;33m,\u001b[0m \u001b[0mmethod\u001b[0m\u001b[1;33m,\u001b[0m \u001b[0murl\u001b[0m\u001b[1;33m,\u001b[0m \u001b[0mbody\u001b[0m\u001b[1;33m=\u001b[0m\u001b[1;32mNone\u001b[0m\u001b[1;33m)\u001b[0m\u001b[1;33m:\u001b[0m\u001b[1;33m\u001b[0m\u001b[1;33m\u001b[0m\u001b[0m\n",
      "\u001b[1;32m~\\Anaconda3\\envs\\AiCourse\\lib\\site-packages\\selenium\\webdriver\\remote\\remote_connection.py\u001b[0m in \u001b[0;36m_request\u001b[1;34m(self, method, url, body)\u001b[0m\n\u001b[0;32m    395\u001b[0m \u001b[1;33m\u001b[0m\u001b[0m\n\u001b[0;32m    396\u001b[0m         \u001b[1;32mif\u001b[0m \u001b[0mself\u001b[0m\u001b[1;33m.\u001b[0m\u001b[0mkeep_alive\u001b[0m\u001b[1;33m:\u001b[0m\u001b[1;33m\u001b[0m\u001b[1;33m\u001b[0m\u001b[0m\n\u001b[1;32m--> 397\u001b[1;33m             \u001b[0mresp\u001b[0m \u001b[1;33m=\u001b[0m \u001b[0mself\u001b[0m\u001b[1;33m.\u001b[0m\u001b[0m_conn\u001b[0m\u001b[1;33m.\u001b[0m\u001b[0mrequest\u001b[0m\u001b[1;33m(\u001b[0m\u001b[0mmethod\u001b[0m\u001b[1;33m,\u001b[0m \u001b[0murl\u001b[0m\u001b[1;33m,\u001b[0m \u001b[0mbody\u001b[0m\u001b[1;33m=\u001b[0m\u001b[0mbody\u001b[0m\u001b[1;33m,\u001b[0m \u001b[0mheaders\u001b[0m\u001b[1;33m=\u001b[0m\u001b[0mheaders\u001b[0m\u001b[1;33m)\u001b[0m\u001b[1;33m\u001b[0m\u001b[1;33m\u001b[0m\u001b[0m\n\u001b[0m\u001b[0;32m    398\u001b[0m \u001b[1;33m\u001b[0m\u001b[0m\n\u001b[0;32m    399\u001b[0m             \u001b[0mstatuscode\u001b[0m \u001b[1;33m=\u001b[0m \u001b[0mresp\u001b[0m\u001b[1;33m.\u001b[0m\u001b[0mstatus\u001b[0m\u001b[1;33m\u001b[0m\u001b[1;33m\u001b[0m\u001b[0m\n",
      "\u001b[1;32m~\\Anaconda3\\envs\\AiCourse\\lib\\site-packages\\urllib3\\request.py\u001b[0m in \u001b[0;36mrequest\u001b[1;34m(self, method, url, fields, headers, **urlopen_kw)\u001b[0m\n\u001b[0;32m     77\u001b[0m         \u001b[1;32melse\u001b[0m\u001b[1;33m:\u001b[0m\u001b[1;33m\u001b[0m\u001b[1;33m\u001b[0m\u001b[0m\n\u001b[0;32m     78\u001b[0m             return self.request_encode_body(\n\u001b[1;32m---> 79\u001b[1;33m                 \u001b[0mmethod\u001b[0m\u001b[1;33m,\u001b[0m \u001b[0murl\u001b[0m\u001b[1;33m,\u001b[0m \u001b[0mfields\u001b[0m\u001b[1;33m=\u001b[0m\u001b[0mfields\u001b[0m\u001b[1;33m,\u001b[0m \u001b[0mheaders\u001b[0m\u001b[1;33m=\u001b[0m\u001b[0mheaders\u001b[0m\u001b[1;33m,\u001b[0m \u001b[1;33m**\u001b[0m\u001b[0murlopen_kw\u001b[0m\u001b[1;33m\u001b[0m\u001b[1;33m\u001b[0m\u001b[0m\n\u001b[0m\u001b[0;32m     80\u001b[0m             )\n\u001b[0;32m     81\u001b[0m \u001b[1;33m\u001b[0m\u001b[0m\n",
      "\u001b[1;32m~\\Anaconda3\\envs\\AiCourse\\lib\\site-packages\\urllib3\\request.py\u001b[0m in \u001b[0;36mrequest_encode_body\u001b[1;34m(self, method, url, fields, headers, encode_multipart, multipart_boundary, **urlopen_kw)\u001b[0m\n\u001b[0;32m    168\u001b[0m         \u001b[0mextra_kw\u001b[0m\u001b[1;33m.\u001b[0m\u001b[0mupdate\u001b[0m\u001b[1;33m(\u001b[0m\u001b[0murlopen_kw\u001b[0m\u001b[1;33m)\u001b[0m\u001b[1;33m\u001b[0m\u001b[1;33m\u001b[0m\u001b[0m\n\u001b[0;32m    169\u001b[0m \u001b[1;33m\u001b[0m\u001b[0m\n\u001b[1;32m--> 170\u001b[1;33m         \u001b[1;32mreturn\u001b[0m \u001b[0mself\u001b[0m\u001b[1;33m.\u001b[0m\u001b[0murlopen\u001b[0m\u001b[1;33m(\u001b[0m\u001b[0mmethod\u001b[0m\u001b[1;33m,\u001b[0m \u001b[0murl\u001b[0m\u001b[1;33m,\u001b[0m \u001b[1;33m**\u001b[0m\u001b[0mextra_kw\u001b[0m\u001b[1;33m)\u001b[0m\u001b[1;33m\u001b[0m\u001b[1;33m\u001b[0m\u001b[0m\n\u001b[0m",
      "\u001b[1;32m~\\Anaconda3\\envs\\AiCourse\\lib\\site-packages\\urllib3\\poolmanager.py\u001b[0m in \u001b[0;36murlopen\u001b[1;34m(self, method, url, redirect, **kw)\u001b[0m\n\u001b[0;32m    373\u001b[0m             \u001b[0mresponse\u001b[0m \u001b[1;33m=\u001b[0m \u001b[0mconn\u001b[0m\u001b[1;33m.\u001b[0m\u001b[0murlopen\u001b[0m\u001b[1;33m(\u001b[0m\u001b[0mmethod\u001b[0m\u001b[1;33m,\u001b[0m \u001b[0murl\u001b[0m\u001b[1;33m,\u001b[0m \u001b[1;33m**\u001b[0m\u001b[0mkw\u001b[0m\u001b[1;33m)\u001b[0m\u001b[1;33m\u001b[0m\u001b[1;33m\u001b[0m\u001b[0m\n\u001b[0;32m    374\u001b[0m         \u001b[1;32melse\u001b[0m\u001b[1;33m:\u001b[0m\u001b[1;33m\u001b[0m\u001b[1;33m\u001b[0m\u001b[0m\n\u001b[1;32m--> 375\u001b[1;33m             \u001b[0mresponse\u001b[0m \u001b[1;33m=\u001b[0m \u001b[0mconn\u001b[0m\u001b[1;33m.\u001b[0m\u001b[0murlopen\u001b[0m\u001b[1;33m(\u001b[0m\u001b[0mmethod\u001b[0m\u001b[1;33m,\u001b[0m \u001b[0mu\u001b[0m\u001b[1;33m.\u001b[0m\u001b[0mrequest_uri\u001b[0m\u001b[1;33m,\u001b[0m \u001b[1;33m**\u001b[0m\u001b[0mkw\u001b[0m\u001b[1;33m)\u001b[0m\u001b[1;33m\u001b[0m\u001b[1;33m\u001b[0m\u001b[0m\n\u001b[0m\u001b[0;32m    376\u001b[0m \u001b[1;33m\u001b[0m\u001b[0m\n\u001b[0;32m    377\u001b[0m         \u001b[0mredirect_location\u001b[0m \u001b[1;33m=\u001b[0m \u001b[0mredirect\u001b[0m \u001b[1;32mand\u001b[0m \u001b[0mresponse\u001b[0m\u001b[1;33m.\u001b[0m\u001b[0mget_redirect_location\u001b[0m\u001b[1;33m(\u001b[0m\u001b[1;33m)\u001b[0m\u001b[1;33m\u001b[0m\u001b[1;33m\u001b[0m\u001b[0m\n",
      "\u001b[1;32m~\\Anaconda3\\envs\\AiCourse\\lib\\site-packages\\urllib3\\connectionpool.py\u001b[0m in \u001b[0;36murlopen\u001b[1;34m(self, method, url, body, headers, retries, redirect, assert_same_host, timeout, pool_timeout, release_conn, chunked, body_pos, **response_kw)\u001b[0m\n\u001b[0;32m    704\u001b[0m                 \u001b[0mbody\u001b[0m\u001b[1;33m=\u001b[0m\u001b[0mbody\u001b[0m\u001b[1;33m,\u001b[0m\u001b[1;33m\u001b[0m\u001b[1;33m\u001b[0m\u001b[0m\n\u001b[0;32m    705\u001b[0m                 \u001b[0mheaders\u001b[0m\u001b[1;33m=\u001b[0m\u001b[0mheaders\u001b[0m\u001b[1;33m,\u001b[0m\u001b[1;33m\u001b[0m\u001b[1;33m\u001b[0m\u001b[0m\n\u001b[1;32m--> 706\u001b[1;33m                 \u001b[0mchunked\u001b[0m\u001b[1;33m=\u001b[0m\u001b[0mchunked\u001b[0m\u001b[1;33m,\u001b[0m\u001b[1;33m\u001b[0m\u001b[1;33m\u001b[0m\u001b[0m\n\u001b[0m\u001b[0;32m    707\u001b[0m             )\n\u001b[0;32m    708\u001b[0m \u001b[1;33m\u001b[0m\u001b[0m\n",
      "\u001b[1;32m~\\Anaconda3\\envs\\AiCourse\\lib\\site-packages\\urllib3\\connectionpool.py\u001b[0m in \u001b[0;36m_make_request\u001b[1;34m(self, conn, method, url, timeout, chunked, **httplib_request_kw)\u001b[0m\n\u001b[0;32m    443\u001b[0m                     \u001b[1;31m# Python 3 (including for exceptions like SystemExit).\u001b[0m\u001b[1;33m\u001b[0m\u001b[1;33m\u001b[0m\u001b[1;33m\u001b[0m\u001b[0m\n\u001b[0;32m    444\u001b[0m                     \u001b[1;31m# Otherwise it looks like a bug in the code.\u001b[0m\u001b[1;33m\u001b[0m\u001b[1;33m\u001b[0m\u001b[1;33m\u001b[0m\u001b[0m\n\u001b[1;32m--> 445\u001b[1;33m                     \u001b[0msix\u001b[0m\u001b[1;33m.\u001b[0m\u001b[0mraise_from\u001b[0m\u001b[1;33m(\u001b[0m\u001b[0me\u001b[0m\u001b[1;33m,\u001b[0m \u001b[1;32mNone\u001b[0m\u001b[1;33m)\u001b[0m\u001b[1;33m\u001b[0m\u001b[1;33m\u001b[0m\u001b[0m\n\u001b[0m\u001b[0;32m    446\u001b[0m         \u001b[1;32mexcept\u001b[0m \u001b[1;33m(\u001b[0m\u001b[0mSocketTimeout\u001b[0m\u001b[1;33m,\u001b[0m \u001b[0mBaseSSLError\u001b[0m\u001b[1;33m,\u001b[0m \u001b[0mSocketError\u001b[0m\u001b[1;33m)\u001b[0m \u001b[1;32mas\u001b[0m \u001b[0me\u001b[0m\u001b[1;33m:\u001b[0m\u001b[1;33m\u001b[0m\u001b[1;33m\u001b[0m\u001b[0m\n\u001b[0;32m    447\u001b[0m             \u001b[0mself\u001b[0m\u001b[1;33m.\u001b[0m\u001b[0m_raise_timeout\u001b[0m\u001b[1;33m(\u001b[0m\u001b[0merr\u001b[0m\u001b[1;33m=\u001b[0m\u001b[0me\u001b[0m\u001b[1;33m,\u001b[0m \u001b[0murl\u001b[0m\u001b[1;33m=\u001b[0m\u001b[0murl\u001b[0m\u001b[1;33m,\u001b[0m \u001b[0mtimeout_value\u001b[0m\u001b[1;33m=\u001b[0m\u001b[0mread_timeout\u001b[0m\u001b[1;33m)\u001b[0m\u001b[1;33m\u001b[0m\u001b[1;33m\u001b[0m\u001b[0m\n",
      "\u001b[1;32m~\\Anaconda3\\envs\\AiCourse\\lib\\site-packages\\urllib3\\packages\\six.py\u001b[0m in \u001b[0;36mraise_from\u001b[1;34m(value, from_value)\u001b[0m\n",
      "\u001b[1;32m~\\Anaconda3\\envs\\AiCourse\\lib\\site-packages\\urllib3\\connectionpool.py\u001b[0m in \u001b[0;36m_make_request\u001b[1;34m(self, conn, method, url, timeout, chunked, **httplib_request_kw)\u001b[0m\n\u001b[0;32m    438\u001b[0m                 \u001b[1;31m# Python 3\u001b[0m\u001b[1;33m\u001b[0m\u001b[1;33m\u001b[0m\u001b[1;33m\u001b[0m\u001b[0m\n\u001b[0;32m    439\u001b[0m                 \u001b[1;32mtry\u001b[0m\u001b[1;33m:\u001b[0m\u001b[1;33m\u001b[0m\u001b[1;33m\u001b[0m\u001b[0m\n\u001b[1;32m--> 440\u001b[1;33m                     \u001b[0mhttplib_response\u001b[0m \u001b[1;33m=\u001b[0m \u001b[0mconn\u001b[0m\u001b[1;33m.\u001b[0m\u001b[0mgetresponse\u001b[0m\u001b[1;33m(\u001b[0m\u001b[1;33m)\u001b[0m\u001b[1;33m\u001b[0m\u001b[1;33m\u001b[0m\u001b[0m\n\u001b[0m\u001b[0;32m    441\u001b[0m                 \u001b[1;32mexcept\u001b[0m \u001b[0mBaseException\u001b[0m \u001b[1;32mas\u001b[0m \u001b[0me\u001b[0m\u001b[1;33m:\u001b[0m\u001b[1;33m\u001b[0m\u001b[1;33m\u001b[0m\u001b[0m\n\u001b[0;32m    442\u001b[0m                     \u001b[1;31m# Remove the TypeError from the exception chain in\u001b[0m\u001b[1;33m\u001b[0m\u001b[1;33m\u001b[0m\u001b[1;33m\u001b[0m\u001b[0m\n",
      "\u001b[1;32m~\\Anaconda3\\envs\\AiCourse\\lib\\http\\client.py\u001b[0m in \u001b[0;36mgetresponse\u001b[1;34m(self)\u001b[0m\n\u001b[0;32m   1367\u001b[0m         \u001b[1;32mtry\u001b[0m\u001b[1;33m:\u001b[0m\u001b[1;33m\u001b[0m\u001b[1;33m\u001b[0m\u001b[0m\n\u001b[0;32m   1368\u001b[0m             \u001b[1;32mtry\u001b[0m\u001b[1;33m:\u001b[0m\u001b[1;33m\u001b[0m\u001b[1;33m\u001b[0m\u001b[0m\n\u001b[1;32m-> 1369\u001b[1;33m                 \u001b[0mresponse\u001b[0m\u001b[1;33m.\u001b[0m\u001b[0mbegin\u001b[0m\u001b[1;33m(\u001b[0m\u001b[1;33m)\u001b[0m\u001b[1;33m\u001b[0m\u001b[1;33m\u001b[0m\u001b[0m\n\u001b[0m\u001b[0;32m   1370\u001b[0m             \u001b[1;32mexcept\u001b[0m \u001b[0mConnectionError\u001b[0m\u001b[1;33m:\u001b[0m\u001b[1;33m\u001b[0m\u001b[1;33m\u001b[0m\u001b[0m\n\u001b[0;32m   1371\u001b[0m                 \u001b[0mself\u001b[0m\u001b[1;33m.\u001b[0m\u001b[0mclose\u001b[0m\u001b[1;33m(\u001b[0m\u001b[1;33m)\u001b[0m\u001b[1;33m\u001b[0m\u001b[1;33m\u001b[0m\u001b[0m\n",
      "\u001b[1;32m~\\Anaconda3\\envs\\AiCourse\\lib\\http\\client.py\u001b[0m in \u001b[0;36mbegin\u001b[1;34m(self)\u001b[0m\n\u001b[0;32m    308\u001b[0m         \u001b[1;31m# read until we get a non-100 response\u001b[0m\u001b[1;33m\u001b[0m\u001b[1;33m\u001b[0m\u001b[1;33m\u001b[0m\u001b[0m\n\u001b[0;32m    309\u001b[0m         \u001b[1;32mwhile\u001b[0m \u001b[1;32mTrue\u001b[0m\u001b[1;33m:\u001b[0m\u001b[1;33m\u001b[0m\u001b[1;33m\u001b[0m\u001b[0m\n\u001b[1;32m--> 310\u001b[1;33m             \u001b[0mversion\u001b[0m\u001b[1;33m,\u001b[0m \u001b[0mstatus\u001b[0m\u001b[1;33m,\u001b[0m \u001b[0mreason\u001b[0m \u001b[1;33m=\u001b[0m \u001b[0mself\u001b[0m\u001b[1;33m.\u001b[0m\u001b[0m_read_status\u001b[0m\u001b[1;33m(\u001b[0m\u001b[1;33m)\u001b[0m\u001b[1;33m\u001b[0m\u001b[1;33m\u001b[0m\u001b[0m\n\u001b[0m\u001b[0;32m    311\u001b[0m             \u001b[1;32mif\u001b[0m \u001b[0mstatus\u001b[0m \u001b[1;33m!=\u001b[0m \u001b[0mCONTINUE\u001b[0m\u001b[1;33m:\u001b[0m\u001b[1;33m\u001b[0m\u001b[1;33m\u001b[0m\u001b[0m\n\u001b[0;32m    312\u001b[0m                 \u001b[1;32mbreak\u001b[0m\u001b[1;33m\u001b[0m\u001b[1;33m\u001b[0m\u001b[0m\n",
      "\u001b[1;32m~\\Anaconda3\\envs\\AiCourse\\lib\\http\\client.py\u001b[0m in \u001b[0;36m_read_status\u001b[1;34m(self)\u001b[0m\n\u001b[0;32m    269\u001b[0m \u001b[1;33m\u001b[0m\u001b[0m\n\u001b[0;32m    270\u001b[0m     \u001b[1;32mdef\u001b[0m \u001b[0m_read_status\u001b[0m\u001b[1;33m(\u001b[0m\u001b[0mself\u001b[0m\u001b[1;33m)\u001b[0m\u001b[1;33m:\u001b[0m\u001b[1;33m\u001b[0m\u001b[1;33m\u001b[0m\u001b[0m\n\u001b[1;32m--> 271\u001b[1;33m         \u001b[0mline\u001b[0m \u001b[1;33m=\u001b[0m \u001b[0mstr\u001b[0m\u001b[1;33m(\u001b[0m\u001b[0mself\u001b[0m\u001b[1;33m.\u001b[0m\u001b[0mfp\u001b[0m\u001b[1;33m.\u001b[0m\u001b[0mreadline\u001b[0m\u001b[1;33m(\u001b[0m\u001b[0m_MAXLINE\u001b[0m \u001b[1;33m+\u001b[0m \u001b[1;36m1\u001b[0m\u001b[1;33m)\u001b[0m\u001b[1;33m,\u001b[0m \u001b[1;34m\"iso-8859-1\"\u001b[0m\u001b[1;33m)\u001b[0m\u001b[1;33m\u001b[0m\u001b[1;33m\u001b[0m\u001b[0m\n\u001b[0m\u001b[0;32m    272\u001b[0m         \u001b[1;32mif\u001b[0m \u001b[0mlen\u001b[0m\u001b[1;33m(\u001b[0m\u001b[0mline\u001b[0m\u001b[1;33m)\u001b[0m \u001b[1;33m>\u001b[0m \u001b[0m_MAXLINE\u001b[0m\u001b[1;33m:\u001b[0m\u001b[1;33m\u001b[0m\u001b[1;33m\u001b[0m\u001b[0m\n\u001b[0;32m    273\u001b[0m             \u001b[1;32mraise\u001b[0m \u001b[0mLineTooLong\u001b[0m\u001b[1;33m(\u001b[0m\u001b[1;34m\"status line\"\u001b[0m\u001b[1;33m)\u001b[0m\u001b[1;33m\u001b[0m\u001b[1;33m\u001b[0m\u001b[0m\n",
      "\u001b[1;32m~\\Anaconda3\\envs\\AiCourse\\lib\\socket.py\u001b[0m in \u001b[0;36mreadinto\u001b[1;34m(self, b)\u001b[0m\n\u001b[0;32m    587\u001b[0m         \u001b[1;32mwhile\u001b[0m \u001b[1;32mTrue\u001b[0m\u001b[1;33m:\u001b[0m\u001b[1;33m\u001b[0m\u001b[1;33m\u001b[0m\u001b[0m\n\u001b[0;32m    588\u001b[0m             \u001b[1;32mtry\u001b[0m\u001b[1;33m:\u001b[0m\u001b[1;33m\u001b[0m\u001b[1;33m\u001b[0m\u001b[0m\n\u001b[1;32m--> 589\u001b[1;33m                 \u001b[1;32mreturn\u001b[0m \u001b[0mself\u001b[0m\u001b[1;33m.\u001b[0m\u001b[0m_sock\u001b[0m\u001b[1;33m.\u001b[0m\u001b[0mrecv_into\u001b[0m\u001b[1;33m(\u001b[0m\u001b[0mb\u001b[0m\u001b[1;33m)\u001b[0m\u001b[1;33m\u001b[0m\u001b[1;33m\u001b[0m\u001b[0m\n\u001b[0m\u001b[0;32m    590\u001b[0m             \u001b[1;32mexcept\u001b[0m \u001b[0mtimeout\u001b[0m\u001b[1;33m:\u001b[0m\u001b[1;33m\u001b[0m\u001b[1;33m\u001b[0m\u001b[0m\n\u001b[0;32m    591\u001b[0m                 \u001b[0mself\u001b[0m\u001b[1;33m.\u001b[0m\u001b[0m_timeout_occurred\u001b[0m \u001b[1;33m=\u001b[0m \u001b[1;32mTrue\u001b[0m\u001b[1;33m\u001b[0m\u001b[1;33m\u001b[0m\u001b[0m\n",
      "\u001b[1;31mKeyboardInterrupt\u001b[0m: "
     ]
    }
   ],
   "metadata": {}
  },
  {
   "cell_type": "markdown",
   "source": [
    "## Issues notices\r\n",
    "Some similar key blocks were overwritten. \r\n",
    "\r\n",
    "Some data is missing/additional "
   ],
   "metadata": {}
  },
  {
   "cell_type": "code",
   "execution_count": 52,
   "source": [
    "# data_dict_2\r\n",
    "for key in data_dict_2:\r\n",
    "    print(key, len(data_dict_2[key]))\r\n",
    "\r\n",
    "\r\n",
    "# data_df_2 = pd.DataFrame(data_dict_2)\r\n",
    "# data_df_2.to_excel(\"output2.xlsx\", sheet_name=source_URL[1])"
   ],
   "outputs": [
    {
     "output_type": "stream",
     "name": "stdout",
     "text": [
      "Name 511\n",
      "Horsepower 511\n",
      "Gross Weight 511\n",
      "Top Speed 511\n",
      "Empty Weight 511\n",
      "Cruise Speed 511\n",
      "Fuel Capacity 511\n",
      "Stall Speed (dirty) 511\n",
      "Range 511\n",
      "Over 50 ft obstacle 991\n",
      "Rate Of Climb 511\n",
      "Ceiling 511\n",
      "Ground Roll 462\n",
      "Rate of Climb (One Engine) 166\n",
      "Ceiling (One Engine) 162\n"
     ]
    }
   ],
   "metadata": {}
  },
  {
   "cell_type": "markdown",
   "source": [
    "# Third source"
   ],
   "metadata": {}
  },
  {
   "cell_type": "code",
   "execution_count": 130,
   "source": [
    "driver.get(source_URL[2])\r\n",
    "\r\n",
    "data_dict_3 = {'Manufacturer': []}\r\n",
    "\r\n",
    "# Setting up dictionary keys\r\n",
    "thead = driver.find_element_by_tag_name('thead').find_elements_by_tag_name('th')\r\n",
    "for th in thead:\r\n",
    "    data_dict_3[th.text] = []\r\n",
    "\r\n",
    "tbodies = driver.find_elements_by_tag_name('table')\r\n",
    "\r\n",
    "for element in tbodies:\r\n",
    "    if element.get_attribute('class') == \"idp-table\":\r\n",
    "        tbody = element.find_element_by_tag_name('tbody').find_elements_by_tag_name('tr')\r\n",
    "        \r\n",
    "\r\n",
    "manufacturer = ''\r\n",
    "\r\n",
    "for tr in tbody:\r\n",
    "    if tr.get_attribute('class')=='header':\r\n",
    "        manufacturer = tr.text\r\n",
    "        continue\r\n",
    "\r\n",
    "    data_dict_3['Manufacturer'].append(manufacturer)\r\n",
    "\r\n",
    "    td_tags = tr.find_elements_by_tag_name('td')\r\n",
    "    for key, td in zip( list(data_dict_3.keys())[1:], td_tags ):\r\n",
    "        data_dict_3[key].append(td.text)\r\n",
    "\r\n",
    "data_df_3 = pd.DataFrame(data_dict_3)\r\n",
    "data_df_3.to_excel(\"output3.xlsx\", sheet_name=\"aircraftbluebook\")\r\n",
    "# page = requests.get(source_URL[2]).text\r\n",
    "# soup = bs4.BeautifulSoup(page, 'lxml')\r\n",
    "# tr_tag = soup.find('tbody').find('tr')\r\n",
    "# tr_tag.next_sibling.next_sibling.next_sibling\r\n"
   ],
   "outputs": [],
   "metadata": {}
  },
  {
   "cell_type": "markdown",
   "source": [
    "# Fourth Source\r\n",
    "- Go through all the pages and make a list of ICAO codes (short names)\r\n",
    "- Go through the URL links from the pages get all the info \r\n",
    "\r\n",
    "-- Didnt need to do step 1 as therre is a next button on every page."
   ],
   "metadata": {}
  },
  {
   "cell_type": "code",
   "execution_count": 219,
   "source": [
    "driver.get(source_URL[3])\r\n",
    "\r\n",
    "data_dict_4 = {'Name': [], 'Manufacturer': [], 'Type': [], 'APC': [], 'WPC': [], 'RECAT-EU': [], 'Wing Span': [], 'Length': [], 'Height': [], 'Powerplant': [], 'Wing Position': [], 'Engine Position': [], 'Tail Position': [], 'Landing Gear': [], 'IATA': [], 'Accomodation': [], 'Notes': [], 'Alternative Names': [],}\r\n",
    "\r\n",
    "id_list = [\"MainContent_wsAcftNameLabel\", \"MainContent_wsManufacturerLabel\", \"MainContent_wsTypeLabel\", \"MainContent_wsAPCLabel\", \"MainContent_wsWTCLabel\", \"MainContent_wsRecatEULabel\", \"MainContent_wsLabelWingSpan\", \"MainContent_wsLabelLength\", \"MainContent_wsLabelHeight\", \"MainContent_wsLabelPowerPlant\", \"MainContent_wsLabelWingPosition\", \"MainContent_wsLabelEngineData\", \"MainContent_wsLabelTailPosition\", \"MainContent_wsLabelLandingGear\", \"MainContent_wsIATACode\", \"MainContent_wsLabelAccommodation\", \"MainContent_wsLabelNotes\", \"MainContent_wsLabelAlternativeNames\"]\r\n",
    "\r\n",
    "# Step 1: Collect list of aircrafts - total pages -> 39, total results -> 385 \r\n",
    "srch_list = []\r\n",
    "\r\n",
    "for pg in tqdm(range(2,41)):\r\n",
    "    tbody = driver.find_element_by_id('MainContent_wsBasicSearchGridView').find_elements_by_tag_name('tr')\r\n",
    "    for tr in tbody[3:-2]:\r\n",
    "        srch_list.append(tr.find_element_by_tag_name('h3').text)\r\n",
    "\r\n",
    "    td_tags = tbody[0].find_element_by_tag_name('tbody').find_elements_by_tag_name('td')\r\n",
    "    for td in td_tags:\r\n",
    "        try:\r\n",
    "            if td.find_element_by_tag_name('a').get_attribute('href') == f\"javascript:__doPostBack('ctl00$MainContent$wsBasicSearchGridView','Page${pg}')\":\r\n",
    "                td.find_element_by_tag_name('a').click()\r\n",
    "                break\r\n",
    "        except selenium.common.exceptions.NoSuchElementException:\r\n",
    "            continue # the current page button doesn't have an 'a' tag so I need to ignore that\r\n",
    "        except:\r\n",
    "            print(\"Something else went wrong\")\r\n",
    "    sleep(1)\r\n",
    "\r\n",
    "# Step 2: Go over the 385 pages' links\r\n",
    "for i, icao in enumerate(tqdm(srch_list)):\r\n",
    "    link = f\"https://contentzone.eurocontrol.int/aircraftperformance/details.aspx?ICAO={icao}\"\r\n",
    "    driver.get(link)\r\n",
    "    sleep(1)\r\n",
    "    for key, id_list_item in zip(data_dict_4.keys(), id_list):\r\n",
    "        data_dict_4[key].append(driver.find_element_by_id(id_list_item).text)\r\n",
    "\r\n",
    "data_df_4 = pd.DataFrame(data_dict_4)\r\n",
    "data_df_4.to_excel(\"output4.xlsx\", sheet_name=\"contentzone\")"
   ],
   "outputs": [
    {
     "output_type": "stream",
     "name": "stderr",
     "text": [
      "100%|██████████| 39/39 [01:14<00:00,  1.91s/it]\n",
      "100%|██████████| 385/385 [11:46<00:00,  1.83s/it]\n"
     ]
    }
   ],
   "metadata": {}
  },
  {
   "cell_type": "code",
   "execution_count": 220,
   "source": [
    "# for key, id_list_item in zip(data_dict_4.keys(), id_list):\r\n",
    "#     data_dict_4[key].append(driver.find_element_by_id(id_list_item).text)\r\n",
    "\r\n",
    "# # Name and manufacturer\r\n",
    "# ac_name = driver.find_element_by_id(\"MainContent_wsAcftNameLabel\").text\r\n",
    "# ac_manufacturer = driver.find_element_by_id(\"MainContent_wsManufacturerLabel\").text\r\n",
    "\r\n",
    "# # Performance\r\n",
    "\r\n",
    "# # Type\r\n",
    "# ac_type = driver.find_element_by_id(\"MainContent_wsTypeLabel\").text\r\n",
    "# APC = driver.find_element_by_id(\"MainContent_wsAPCLabel\").text\r\n",
    "# WPC = driver.find_element_by_id(\"MainContent_wsWTCLabel\").text\r\n",
    "# recat_EU = driver.find_element_by_id(\"MainContent_wsRecatEULabel\").text\r\n",
    "\r\n",
    "# # Technical\r\n",
    "# wing_span = driver.find_element_by_id(\"MainContent_wsLabelWingSpan\").text\r\n",
    "# length = driver.find_element_by_id(\"MainContent_wsLabelLength\").text\r\n",
    "# height = driver.find_element_by_id(\"MainContent_wsLabelHeight\").text\r\n",
    "# power_plant = driver.find_element_by_id(\"MainContent_wsLabelPowerPlant\").text\r\n",
    "\r\n",
    "# # Performance similarity (not always available)\r\n",
    "# # ICAO_code = driver.find_element_by_id(\"\").text\r\n",
    "\r\n",
    "# # Recognition\r\n",
    "# wing_pos = driver.find_element_by_id(\"MainContent_wsLabelWingPosition\").text\r\n",
    "# engine_pos  = driver.find_element_by_id(\"MainContent_wsLabelEngineData\").text\r\n",
    "# tail_config = driver.find_element_by_id(\"MainContent_wsLabelTailPosition\").text\r\n",
    "# landing_gear = driver.find_element_by_id(\"MainContent_wsLabelLandingGear\").text\r\n",
    "# # recog_similarity = driver.find_element_by_id(\"\").text\r\n",
    "\r\n",
    "# # Supplementary \r\n",
    "# IATA = driver.find_element_by_id(\"MainContent_wsIATACode\").text\r\n",
    "# accomodation = driver.find_element_by_id(\"MainContent_wsLabelAccommodation\").text\r\n",
    "# notes  = driver.find_element_by_id(\"MainContent_wsLabelNotes\").text\r\n",
    "# alt_names = driver.find_element_by_id(\"MainContent_wsLabelAlternativeNames\").text\r\n"
   ],
   "outputs": [],
   "metadata": {}
  },
  {
   "cell_type": "code",
   "execution_count": null,
   "source": [],
   "outputs": [],
   "metadata": {}
  }
 ],
 "metadata": {
  "orig_nbformat": 4,
  "language_info": {
   "name": "python",
   "version": "3.7.9",
   "mimetype": "text/x-python",
   "codemirror_mode": {
    "name": "ipython",
    "version": 3
   },
   "pygments_lexer": "ipython3",
   "nbconvert_exporter": "python",
   "file_extension": ".py"
  },
  "kernelspec": {
   "name": "python3",
   "display_name": "Python 3.7.9 64-bit ('AiCourse': conda)"
  },
  "interpreter": {
   "hash": "dfaecfed13d747f70f6de13332bbc8a6f5e743e6357e44a0811cac525102dae4"
  }
 },
 "nbformat": 4,
 "nbformat_minor": 2
}